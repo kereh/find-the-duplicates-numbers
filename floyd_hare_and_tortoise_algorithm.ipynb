{
  "nbformat": 4,
  "nbformat_minor": 0,
  "metadata": {
    "colab": {
      "name": "floyd hare and tortoise algorithm",
      "provenance": [],
      "collapsed_sections": []
    },
    "kernelspec": {
      "name": "python3",
      "display_name": "Python 3"
    },
    "language_info": {
      "name": "python"
    }
  },
  "cells": [
    {
      "cell_type": "code",
      "source": [
        "def findDuplicates(arr):\n",
        "    \n",
        "    arr.sort()\n",
        "\n",
        "    hare = tortoise = arr[0]\n",
        "\n",
        "    while True:\n",
        "\n",
        "        hare = arr[arr[hare]]\n",
        "        \n",
        "        tortoise = arr[tortoise]\n",
        "\n",
        "        print(f\"Tortoise : {tortoise} || Hare : {hare}\")\n",
        "        \n",
        "        if hare == tortoise:\n",
        "            break\n",
        "    \n",
        "    hare = arr[0]\n",
        "\n",
        "    while hare != tortoise:\n",
        "\n",
        "        hare = arr[hare]\n",
        "        tortoise = arr[tortoise]\n",
        "\n",
        "    print(arr[hare])\n",
        "\n",
        "arr = [5,2,6,4,4,1,3]\n",
        "findDuplicates(arr)"
      ],
      "metadata": {
        "colab": {
          "base_uri": "https://localhost:8080/"
        },
        "id": "1APq8y_Dqe3Z",
        "outputId": "745382e2-ec83-471d-bc5f-9345da2fdebd"
      },
      "execution_count": null,
      "outputs": [
        {
          "output_type": "stream",
          "name": "stdout",
          "text": [
            "Tortoise : 2 || Hare : 3\n",
            "Tortoise : 3 || Hare : 4\n",
            "Tortoise : 4 || Hare : 4\n",
            "4\n"
          ]
        }
      ]
    }
  ]
}